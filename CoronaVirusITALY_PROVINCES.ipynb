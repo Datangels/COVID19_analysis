{
  "nbformat": 4,
  "nbformat_minor": 0,
  "metadata": {
    "colab": {
      "name": "CoronaVirusITALY_PROVINCES.ipynb",
      "provenance": [],
      "collapsed_sections": [],
      "mount_file_id": "1h099fIapWZZawb6oJXTE4_92aykbfqiw",
      "authorship_tag": "ABX9TyOCnrGJmyBdUYjGgLHAr6Ds",
      "include_colab_link": true
    },
    "kernelspec": {
      "name": "python3",
      "display_name": "Python 3"
    }
  },
  "cells": [
    {
      "cell_type": "markdown",
      "metadata": {
        "id": "view-in-github",
        "colab_type": "text"
      },
      "source": [
        "<a href=\"https://colab.research.google.com/github/robimalco/COVID19_analysis/blob/master/CoronaVirusITALY_PROVINCES.ipynb\" target=\"_parent\"><img src=\"https://colab.research.google.com/assets/colab-badge.svg\" alt=\"Open In Colab\"/></a>"
      ]
    },
    {
      "cell_type": "markdown",
      "metadata": {
        "id": "N8r3IfxBnJUh",
        "colab_type": "text"
      },
      "source": [
        "# **DEFINE LIBRARIES**"
      ]
    },
    {
      "cell_type": "code",
      "metadata": {
        "id": "fdk_L-7jmmnC",
        "colab_type": "code",
        "colab": {}
      },
      "source": [
        "import pandas as pd\n",
        "import numpy as np\n",
        "import io\n",
        "import requests\n",
        "from google.colab import files\n",
        "pd.options.mode.chained_assignment = None\n",
        "! pip install geopandas\n",
        "\n",
        "# GEODATA\n",
        "import os\n",
        "import folium\n",
        "from folium import plugins\n",
        "import geopandas as gpd"
      ],
      "execution_count": 0,
      "outputs": []
    },
    {
      "cell_type": "markdown",
      "metadata": {
        "id": "ltCgZhnhr5N-",
        "colab_type": "text"
      },
      "source": [
        "# **DOWNLOAD PROVINCE DATA**"
      ]
    },
    {
      "cell_type": "code",
      "metadata": {
        "id": "BJuOh5rQr75H",
        "colab_type": "code",
        "colab": {}
      },
      "source": [
        "url_first_part = 'https://raw.githubusercontent.com/pcm-dpc/COVID-19/master/dati-province/dpc-covid19-ita-province-'\n",
        "\n",
        "file_dates = [\n",
        "              '20200224.csv', '20200225.csv', '20200226.csv', '20200227.csv', '20200228.csv', '20200229.csv',   \n",
        "              '20200301.csv', '20200302.csv', '20200303.csv', '20200304.csv', '20200305.csv', '20200306.csv',\n",
        "              '20200307.csv', '20200308.csv', '20200309.csv', '20200310.csv', '20200311.csv', '20200312.csv',\n",
        "              '20200313.csv', '20200314.csv', '20200315.csv', '20200316.csv', '20200317.csv', '20200318.csv',\n",
        "              '20200319.csv', '20200320.csv', '20200321.csv', '20200322.csv', '20200323.csv', '20200324.csv',\n",
        "              '20200325.csv', '20200326.csv', '20200327.csv', '20200328.csv', '20200329.csv', '20200330.csv',\n",
        "              '20200331.csv', '20200401.csv', '20200402.csv', '20200403.csv', '20200404.csv', '20200405.csv',\n",
        "              '20200406.csv', '20200407.csv', '20200408.csv', '20200409.csv', '20200410.csv', '20200411.csv',\n",
        "              '20200412.csv', '20200413.csv', '20200414.csv', '20200415.csv', '20200416.csv', '20200417.csv']\n",
        "\n",
        "full_data_list = []\n",
        "\n",
        "for i in range(0, len(file_dates)):\n",
        "  # print('Processing: ' + file_dates[i])\n",
        "  url_complete = url_first_part + file_dates[i]\n",
        "  response = requests.get(url_complete).content\n",
        "  temp_df = pd.read_csv(io.StringIO(response.decode('utf-8')))\n",
        "  full_data_list.append(temp_df)\n",
        "\n",
        "df = pd.concat(full_data_list, ignore_index=True)\n",
        "\n",
        "# df.to_csv('df.csv')\n",
        "# files.download('df.csv')"
      ],
      "execution_count": 0,
      "outputs": []
    },
    {
      "cell_type": "markdown",
      "metadata": {
        "id": "BskjbLRbgiKE",
        "colab_type": "text"
      },
      "source": [
        "# **DOWNLOAD INHABITANTS PER PROVINCE**"
      ]
    },
    {
      "cell_type": "code",
      "metadata": {
        "id": "hDR30_dChh4L",
        "colab_type": "code",
        "colab": {}
      },
      "source": [
        "from bs4 import BeautifulSoup\n",
        "import requests\n",
        "html = requests.get('https://www.tuttitalia.it/province/popolazione/').text\n",
        "soup = BeautifulSoup(html)\n",
        "province_names = soup.select('table.ut')[0].findAll('a')\n",
        "province_populations = soup.findAll('td', {'class': 'cw'})\n",
        "df_province_inhabitants = pd.DataFrame(columns=['sigla_provincia', 'inhabitants'])\n",
        "prov_rows = soup.select('table.ut')[0].findAll('tr')\n",
        "for prov_row in prov_rows:\n",
        "  if '<div class=\"ow\">' in str(prov_row):\n",
        "    df_province_inhabitants = df_province_inhabitants.append({\n",
        "        'sigla_provincia': prov_row.find('div', {'class': 'ow'}).getText(),\n",
        "        'inhabitants': int(prov_row.find('td', {'class': 'cw'}).getText().replace('.', ''))\n",
        "      }, ignore_index=True)"
      ],
      "execution_count": 0,
      "outputs": []
    },
    {
      "cell_type": "markdown",
      "metadata": {
        "id": "KQXhGvCGnAyZ",
        "colab_type": "text"
      },
      "source": [
        "# **DOWNLOAD GEODATA**"
      ]
    },
    {
      "cell_type": "code",
      "metadata": {
        "id": "15iL6oSYnBYp",
        "colab_type": "code",
        "colab": {}
      },
      "source": [
        "# Download Geodata\n",
        "file_name = 'https://raw.githubusercontent.com/openpolis/geojson-italy/master/geojson/limits_IT_provinces.geojson'\n",
        "province_geo_data = gpd.read_file(file_name)\n",
        "province_geo_data['prov_name'] = province_geo_data['prov_name'].str.lower()"
      ],
      "execution_count": 0,
      "outputs": []
    },
    {
      "cell_type": "markdown",
      "metadata": {
        "id": "LFWJBhcSnSrw",
        "colab_type": "text"
      },
      "source": [
        "# **FIX INCONSISTENCIES BETWEEN PROVINCES' NAMES**"
      ]
    },
    {
      "cell_type": "code",
      "metadata": {
        "id": "RGdWFK7TjbKq",
        "colab_type": "code",
        "colab": {}
      },
      "source": [
        "# Change name to specific provinces to match geo spatial names and add useful column\n",
        "df.loc[df['denominazione_provincia'] == 'Aosta', 'denominazione_provincia'] = \"Valle d'Aosta/Vallée d'Aoste\"\n",
        "df.loc[df['denominazione_provincia'] == 'Bolzano', 'denominazione_provincia'] = 'Bolzano/Bozen'\n",
        "df.loc[df['denominazione_provincia'] == 'Massa Carrara', 'denominazione_provincia'] = 'Massa-Carrara'"
      ],
      "execution_count": 0,
      "outputs": []
    },
    {
      "cell_type": "markdown",
      "metadata": {
        "id": "BuCKsZCwTfxK",
        "colab_type": "text"
      },
      "source": [
        "# **FILTER, MERGE AND GROUP DATA**"
      ]
    },
    {
      "cell_type": "code",
      "metadata": {
        "id": "sXM6Ylr1sNBU",
        "colab_type": "code",
        "colab": {}
      },
      "source": [
        "# Create copy of df to avoid not useful re-estraction\n",
        "province_df = df\n",
        "\n",
        "province_df = province_df.merge(df_province_inhabitants, on='sigla_provincia')\n",
        "\n",
        "province_df = province_df[province_df['denominazione_provincia'] != 'In fase di definizione/aggiornamento']"
      ],
      "execution_count": 0,
      "outputs": []
    },
    {
      "cell_type": "markdown",
      "metadata": {
        "id": "7YUCH142oSkc",
        "colab_type": "text"
      },
      "source": [
        "# **ADD NEW INTERESTING COLUMNS**"
      ]
    },
    {
      "cell_type": "code",
      "metadata": {
        "id": "iq8DTBSjoUoV",
        "colab_type": "code",
        "colab": {}
      },
      "source": [
        "province_df['inhabitants/totale_casi'] = province_df['inhabitants'].div(province_df['totale_casi'].where(province_df['totale_casi'] != 0, np.nan)).fillna(0).replace([np.inf, -np.inf], 0).astype(int)"
      ],
      "execution_count": 0,
      "outputs": []
    },
    {
      "cell_type": "markdown",
      "metadata": {
        "id": "X0Z2JYVwTnku",
        "colab_type": "text"
      },
      "source": [
        "# **ANALYZE DATA**"
      ]
    },
    {
      "cell_type": "code",
      "metadata": {
        "id": "1L5JUUx_MT0N",
        "colab_type": "code",
        "colab": {}
      },
      "source": [
        "kpi_columns = ['totale_casi', 'inhabitants/totale_casi']\n",
        "\n",
        "ok_province_df = pd.DataFrame()\n",
        "\n",
        "province_df['days_from_last_obs'] = (pd.to_datetime(province_df.data.max()) - pd.to_datetime(province_df.data, errors='coerce')).dt.days\n",
        "temp_province_df = province_df.sort_values(by=['denominazione_regione', 'days_from_last_obs'], ascending=[False, False])\n",
        "\n",
        "for q in range(0, len(kpi_columns)): \n",
        "  temp_province_df['d_' + kpi_columns[q]] = temp_province_df.groupby(['denominazione_provincia'])[kpi_columns[q]].diff().fillna(0).replace([np.inf, -np.inf], 0).astype(int)\n",
        "  temp_province_df['dp_' + kpi_columns[q]] = temp_province_df.groupby(['denominazione_provincia'])[kpi_columns[q]].pct_change().apply(lambda x: round(x, 2)* 100).fillna(0).replace([np.inf, -np.inf], 0).astype(int)\n",
        "ok_province_df = ok_province_df.append(temp_province_df)"
      ],
      "execution_count": 0,
      "outputs": []
    },
    {
      "cell_type": "markdown",
      "metadata": {
        "id": "_iTKvMiuTqHv",
        "colab_type": "text"
      },
      "source": [
        "# **SINGLE PROVINCE RECAP**"
      ]
    },
    {
      "cell_type": "code",
      "metadata": {
        "id": "kuTyDYsnOMm2",
        "colab_type": "code",
        "colab": {}
      },
      "source": [
        "COLUMNS_TO_DISPLAY = ['days_from_last_obs', 'data', 'denominazione_provincia', 'totale_casi', 'd_totale_casi', 'dp_totale_casi', 'inhabitants/totale_casi']\n",
        "\n",
        "RECAP_PROVINCE = 'Varese'\n",
        "\n",
        "LAST_n_DAYS = 10\n",
        "\n",
        "ok_province_df_recap = ok_province_df[COLUMNS_TO_DISPLAY]\n",
        "ok_province_df_recap[(ok_province_df_recap['denominazione_provincia'] == RECAP_PROVINCE) & (ok_province_df_recap['days_from_last_obs'] < LAST_n_DAYS)]"
      ],
      "execution_count": 0,
      "outputs": []
    },
    {
      "cell_type": "markdown",
      "metadata": {
        "id": "Yiboz-a8ogAp",
        "colab_type": "text"
      },
      "source": [
        "## **MULTI PROVINCE RECAP**"
      ]
    },
    {
      "cell_type": "code",
      "metadata": {
        "id": "mW9gp9bHoksh",
        "colab_type": "code",
        "colab": {}
      },
      "source": [
        "COLUMNS_TO_DISPLAY = ['days_from_last_obs', 'data', 'denominazione_provincia', 'totale_casi', 'd_totale_casi', 'dp_totale_casi', 'inhabitants/totale_casi']\n",
        "\n",
        "RECAP_PROVINCIES = ['Palermo', 'Messina', 'Catania', 'Agrigento', 'Caltanissetta', 'Enna', 'Trapani', 'Ragusa']\n",
        "\n",
        "DAYS_AGO = 0\n",
        "\n",
        "ok_province_df_recap = ok_province_df[COLUMNS_TO_DISPLAY]\n",
        "ok_province_df_recap[(ok_province_df['days_from_last_obs'] == DAYS_AGO) & (ok_province_df['denominazione_provincia'].isin(RECAP_PROVINCIES))]"
      ],
      "execution_count": 0,
      "outputs": []
    },
    {
      "cell_type": "markdown",
      "metadata": {
        "id": "qxx7VWxDTux-",
        "colab_type": "text"
      },
      "source": [
        "# **SHOW PIVOT**"
      ]
    },
    {
      "cell_type": "code",
      "metadata": {
        "id": "Pfy9Z4pjOdsL",
        "colab_type": "code",
        "colab": {}
      },
      "source": [
        "PIVOT_MAIN_KPI = 'd_totale_casi'\n",
        "\n",
        "PIVOT_PROVINCIES = ['Varese', 'Milano', 'Bergamo', 'Brescia', 'Cremona']\n",
        "\n",
        "LAST_n_DAYS = 15\n",
        "\n",
        "ok_province_df_for_pivot = ok_province_df.groupby(['denominazione_provincia', 'days_from_last_obs']).last().reset_index()\n",
        "ok_province_df_pivot = ok_province_df_for_pivot[ok_province_df_for_pivot['denominazione_provincia'].isin(PIVOT_PROVINCIES)].pivot(index='denominazione_provincia', columns='days_from_last_obs', values=[PIVOT_MAIN_KPI]).fillna(0)\n",
        "ok_province_df_pivot[ok_province_df_pivot.columns[::-1][len(list(ok_province_df_pivot.columns))-LAST_n_DAYS:]]"
      ],
      "execution_count": 0,
      "outputs": []
    },
    {
      "cell_type": "markdown",
      "metadata": {
        "id": "IJMdJ72Y93Q_",
        "colab_type": "text"
      },
      "source": [
        "# **PLOT GEODATA**"
      ]
    },
    {
      "cell_type": "code",
      "metadata": {
        "id": "dBPzQSKU-oau",
        "colab_type": "code",
        "colab": {}
      },
      "source": [
        "KPI_MAP = 'dp_totale_casi'\n",
        "DAYS_AGO = 0 # 0 is the last data point\n",
        "\n",
        "map_italy = folium.Map([41.9028, 12.4964], zoom_start=6)\n",
        "\n",
        "popups = ok_province_df[(ok_province_df['days_from_last_obs'] == DAYS_AGO)]\n",
        "popups = popups[['denominazione_provincia', KPI_MAP]]\n",
        "\n",
        "popups.columns = ['prov_name', KPI_MAP]\n",
        "popups['prov_name'] = popups['prov_name'].str.lower()\n",
        "\n",
        "province_geo_data_short = province_geo_data.merge(popups,on=\"prov_name\")\n",
        "\n",
        "province_geo_data_short = province_geo_data_short[['prov_name', KPI_MAP, 'geometry']]\n",
        "\n",
        "folium.Choropleth(\n",
        "    geo_data=province_geo_data_short,\n",
        "    data=province_geo_data_short,\n",
        "    columns=['prov_name', KPI_MAP],\n",
        "    key_on='feature.properties.prov_name',\n",
        "    fill_color='YlOrRd'\n",
        ").add_to(map_italy)\n",
        "\n",
        "import branca.colormap as cm\n",
        "\n",
        "style_function = lambda x: {\n",
        "    'fillColor': '#ffffff',\n",
        "    'color':'#000000', \n",
        "    'fillOpacity': 0.1,\n",
        "    'weight': 0.1}\n",
        "highlight_function = lambda x: {\n",
        "    'fillColor': '#000000',\n",
        "    'color':'#000000',\n",
        "    'fillOpacity': 0.50,\n",
        "    'weight': 0.1}\n",
        "NIL = folium.features.GeoJson(\n",
        "    province_geo_data_short,\n",
        "    style_function=style_function, \n",
        "    control=False,\n",
        "    highlight_function=highlight_function, \n",
        "    tooltip=folium.features.GeoJsonTooltip(\n",
        "        fields=['prov_name', KPI_MAP],\n",
        "        aliases=['prov_name: ', KPI_MAP + ' : '],\n",
        "        style=(\"background-color: white; color: #333333; font-family: arial; font-size: 12px; padding: 10px;\") \n",
        "    )\n",
        ")\n",
        "map_italy.add_child(NIL)\n",
        "map_italy.keep_in_front(NIL)\n",
        "\n",
        "map_italy"
      ],
      "execution_count": 0,
      "outputs": []
    }
  ]
}