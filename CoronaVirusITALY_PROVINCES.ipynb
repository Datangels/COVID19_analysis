{
  "nbformat": 4,
  "nbformat_minor": 0,
  "metadata": {
    "colab": {
      "name": "CoronaVirusITALY_PROVINCES.ipynb",
      "provenance": [],
      "collapsed_sections": [],
      "mount_file_id": "1h099fIapWZZawb6oJXTE4_92aykbfqiw",
      "authorship_tag": "ABX9TyNUyAEXxZ9feHlaB6jnDQUN",
      "include_colab_link": true
    },
    "kernelspec": {
      "name": "python3",
      "display_name": "Python 3"
    }
  },
  "cells": [
    {
      "cell_type": "markdown",
      "metadata": {
        "id": "view-in-github",
        "colab_type": "text"
      },
      "source": [
        "<a href=\"https://colab.research.google.com/github/Datangels/COVID19_analysis/blob/master/CoronaVirusITALY_PROVINCES.ipynb\" target=\"_parent\"><img src=\"https://colab.research.google.com/assets/colab-badge.svg\" alt=\"Open In Colab\"/></a>"
      ]
    },
    {
      "cell_type": "markdown",
      "metadata": {
        "id": "N8r3IfxBnJUh",
        "colab_type": "text"
      },
      "source": [
        "# **DEFINE LIBRARIES**"
      ]
    },
    {
      "cell_type": "code",
      "metadata": {
        "id": "fdk_L-7jmmnC",
        "colab_type": "code",
        "colab": {}
      },
      "source": [
        "import pandas as pd\n",
        "import numpy as np\n",
        "import io\n",
        "import requests\n",
        "from google.colab import files\n",
        "pd.options.mode.chained_assignment = None\n",
        "! pip install geopandas"
      ],
      "execution_count": 0,
      "outputs": []
    },
    {
      "cell_type": "markdown",
      "metadata": {
        "id": "ltCgZhnhr5N-",
        "colab_type": "text"
      },
      "source": [
        "# **DOWNLOAD PROVINCE DATA**"
      ]
    },
    {
      "cell_type": "code",
      "metadata": {
        "id": "BJuOh5rQr75H",
        "colab_type": "code",
        "colab": {}
      },
      "source": [
        "url_first_part = 'https://raw.githubusercontent.com/pcm-dpc/COVID-19/master/dati-province/dpc-covid19-ita-province-'\n",
        "\n",
        "file_dates = [\n",
        "              '20200224.csv', '20200225.csv', '20200226.csv', '20200227.csv', '20200228.csv', '20200229.csv',   \n",
        "              '20200301.csv', '20200302.csv', '20200303.csv', '20200304.csv', '20200305.csv', '20200306.csv',\n",
        "              '20200307.csv', '20200308.csv', '20200309.csv', '20200310.csv', '20200311.csv', '20200312.csv',\n",
        "              '20200313.csv', '20200314.csv', '20200315.csv', '20200316.csv', '20200317.csv', '20200318.csv',\n",
        "              '20200319.csv', '20200320.csv', '20200321.csv', '20200322.csv', '20200323.csv', '20200324.csv',\n",
        "              '20200325.csv', '20200326.csv', '20200327.csv']\n",
        "\n",
        "\n",
        "full_data_list = []\n",
        "\n",
        "for i in range(0, len(file_dates)):\n",
        "  # print('Processing: ' + file_dates[i])\n",
        "  url_complete = url_first_part + file_dates[i]\n",
        "  response = requests.get(url_complete).content\n",
        "  temp_df = pd.read_csv(io.StringIO(response.decode('utf-8')))\n",
        "  full_data_list.append(temp_df)\n",
        "\n",
        "province_df = pd.concat(full_data_list, ignore_index=True)\n",
        "\n",
        "# province_df.to_csv('province_df.csv')\n",
        "# files.download('province_df.csv')"
      ],
      "execution_count": 0,
      "outputs": []
    },
    {
      "cell_type": "markdown",
      "metadata": {
        "id": "BuCKsZCwTfxK",
        "colab_type": "text"
      },
      "source": [
        "# **FIX AND ADAPT DATA**"
      ]
    },
    {
      "cell_type": "code",
      "metadata": {
        "id": "sXM6Ylr1sNBU",
        "colab_type": "code",
        "colab": {}
      },
      "source": [
        "# Change name to specific provinces to match geo spatial names and add useful column\n",
        "province_df.loc[province_df['denominazione_provincia'] == 'Aosta', 'denominazione_provincia'] = \"Valle d'Aosta/Vallée d'Aoste\"\n",
        "province_df.loc[province_df['denominazione_provincia'] == 'Bolzano', 'denominazione_provincia'] = 'Bolzano/Bozen'\n",
        "province_df.loc[province_df['denominazione_provincia'] == 'Massa Carrara', 'denominazione_provincia'] = 'Massa-Carrara'\n",
        "\n",
        "# Create copy of df to avoid not useful re-estraction\n",
        "province_df_to_manage = province_df\n",
        "\n",
        "province_df_to_manage['days_from_last_obs'] = (pd.to_datetime(province_df_to_manage.data.max()) - pd.to_datetime(province_df_to_manage.data, errors='coerce')).dt.days\n",
        "\n",
        "province_df_to_manage = province_df_to_manage[province_df_to_manage['denominazione_provincia'] != 'In fase di definizione/aggiornamento']"
      ],
      "execution_count": 0,
      "outputs": []
    },
    {
      "cell_type": "markdown",
      "metadata": {
        "id": "X0Z2JYVwTnku",
        "colab_type": "text"
      },
      "source": [
        "# **ANALYZE DATA**"
      ]
    },
    {
      "cell_type": "code",
      "metadata": {
        "id": "1L5JUUx_MT0N",
        "colab_type": "code",
        "colab": {}
      },
      "source": [
        "kpi_columns = ['totale_casi']\n",
        "\n",
        "province_df_to_manage_daily = pd.DataFrame()\n",
        "\n",
        "temp_province_daily_df = province_df_to_manage.sort_values(by=['denominazione_regione', 'days_from_last_obs'], ascending=[False, False])\n",
        "\n",
        "for q in range(0, len(kpi_columns)): \n",
        "  temp_province_daily_df['d_' + kpi_columns[q]] = temp_province_daily_df.groupby(['denominazione_provincia'])[kpi_columns[q]].diff().fillna(0).replace([np.inf, -np.inf], 0)\n",
        "  temp_province_daily_df['dp_' + kpi_columns[q]] = temp_province_daily_df.groupby(['denominazione_provincia'])[kpi_columns[q]].pct_change().apply(lambda x: round(x, 2)* 100).fillna(0).replace([np.inf, -np.inf], 0)\n",
        "province_df_to_manage_daily = province_df_to_manage_daily.append(temp_province_daily_df)"
      ],
      "execution_count": 0,
      "outputs": []
    },
    {
      "cell_type": "markdown",
      "metadata": {
        "id": "_iTKvMiuTqHv",
        "colab_type": "text"
      },
      "source": [
        "# **SINGLE PROVINCE RECAP**"
      ]
    },
    {
      "cell_type": "code",
      "metadata": {
        "id": "kuTyDYsnOMm2",
        "colab_type": "code",
        "colab": {}
      },
      "source": [
        "COLUMNS_TO_DISPLAY = ['days_from_last_obs', 'data', 'denominazione_provincia', 'totale_casi', 'd_totale_casi', 'dp_totale_casi']\n",
        "\n",
        "RECAP_PROVINCE = 'Varese'\n",
        "\n",
        "LAST_n_DAYS = 10\n",
        "\n",
        "province_df_to_manage_daily_recap = province_df_to_manage_daily[COLUMNS_TO_DISPLAY]\n",
        "province_df_to_manage_daily_recap[(province_df_to_manage_daily_recap['denominazione_provincia'] == RECAP_PROVINCE) & (province_df_to_manage_daily_recap['days_from_last_obs'] < LAST_n_DAYS)]"
      ],
      "execution_count": 0,
      "outputs": []
    },
    {
      "cell_type": "markdown",
      "metadata": {
        "id": "Yiboz-a8ogAp",
        "colab_type": "text"
      },
      "source": [
        "## **MULTI PROVINCE RECAP**"
      ]
    },
    {
      "cell_type": "code",
      "metadata": {
        "id": "mW9gp9bHoksh",
        "colab_type": "code",
        "colab": {}
      },
      "source": [
        "COLUMNS_TO_DISPLAY = ['days_from_last_obs', 'data', 'denominazione_provincia', 'totale_casi', 'd_totale_casi', 'dp_totale_casi']\n",
        "\n",
        "RECAP_PROVINCIES = ['Milano', 'Varese', 'Bergamo', 'Brescia', 'Palermo']\n",
        "\n",
        "DAYS_AGO = 0\n",
        "\n",
        "province_df_to_manage_daily_recap = province_df_to_manage_daily[COLUMNS_TO_DISPLAY]\n",
        "province_df_to_manage_daily_recap[(province_df_to_manage_daily_recap['days_from_last_obs'] == DAYS_AGO) & (province_df_to_manage_daily_recap['denominazione_provincia'].isin(RECAP_PROVINCIES))]"
      ],
      "execution_count": 0,
      "outputs": []
    },
    {
      "cell_type": "markdown",
      "metadata": {
        "id": "qxx7VWxDTux-",
        "colab_type": "text"
      },
      "source": [
        "# **SHOW PIVOT**"
      ]
    },
    {
      "cell_type": "code",
      "metadata": {
        "id": "Pfy9Z4pjOdsL",
        "colab_type": "code",
        "colab": {}
      },
      "source": [
        "PIVOT_MAIN_KPI = 'd_totale_casi'\n",
        "\n",
        "PIVOT_PROVINCIES = ['Sassari', 'Sud Sardegna', 'Nuoro', 'Cagliari', 'Oristano']\n",
        "\n",
        "LAST_n_DAYS = 20\n",
        "\n",
        "province_df_to_manage_daily_for_pivot = province_df_to_manage_daily.groupby(['denominazione_provincia', 'days_from_last_obs']).last().reset_index()\n",
        "province_df_to_manage_daily_pivot = province_df_to_manage_daily_for_pivot[province_df_to_manage_daily_for_pivot['denominazione_provincia'].isin(PIVOT_PROVINCIES)].pivot(index='denominazione_provincia', columns='days_from_last_obs', values=[PIVOT_MAIN_KPI]).fillna(0)\n",
        "province_df_to_manage_daily_pivot[province_df_to_manage_daily_pivot.columns[::-1][len(list(province_df_to_manage_daily_pivot.columns))-LAST_n_DAYS:]]"
      ],
      "execution_count": 0,
      "outputs": []
    },
    {
      "cell_type": "markdown",
      "metadata": {
        "id": "IJMdJ72Y93Q_",
        "colab_type": "text"
      },
      "source": [
        "# **PLOT GEODATA**"
      ]
    },
    {
      "cell_type": "code",
      "metadata": {
        "id": "F5p6RD-BgOd0",
        "colab_type": "code",
        "colab": {}
      },
      "source": [
        "import os\n",
        "import folium\n",
        "from folium import plugins\n",
        "import geopandas as gpd"
      ],
      "execution_count": 0,
      "outputs": []
    },
    {
      "cell_type": "code",
      "metadata": {
        "id": "B63btqbh96hF",
        "colab_type": "code",
        "colab": {}
      },
      "source": [
        "# Download Geodata\n",
        "file_name = 'https://raw.githubusercontent.com/openpolis/geojson-italy/master/geojson/limits_IT_provinces.geojson'\n",
        "province_geo_data = gpd.read_file(file_name)\n",
        "province_geo_data['prov_name'] = province_geo_data['prov_name'].str.lower()"
      ],
      "execution_count": 0,
      "outputs": []
    },
    {
      "cell_type": "code",
      "metadata": {
        "id": "dBPzQSKU-oau",
        "colab_type": "code",
        "colab": {}
      },
      "source": [
        "KPI_MAP = 'dp_totale_casi'\n",
        "DAYS_AGO = 0 # 0 is the last data point\n",
        "\n",
        "map_italy = folium.Map([41.9028, 12.4964], zoom_start=6)\n",
        "\n",
        "popups = province_df_to_manage_daily[(province_df_to_manage_daily['days_from_last_obs'] == DAYS_AGO)]\n",
        "popups = popups[['denominazione_provincia', KPI_MAP]]\n",
        "\n",
        "popups.columns = ['prov_name', KPI_MAP]\n",
        "popups['prov_name'] = popups['prov_name'].str.lower()\n",
        "\n",
        "province_geo_data_short = province_geo_data.merge(popups,on=\"prov_name\")\n",
        "\n",
        "province_geo_data_short = province_geo_data_short[['prov_name', KPI_MAP, 'geometry']]\n",
        "\n",
        "folium.Choropleth(\n",
        "    geo_data=province_geo_data_short,\n",
        "    data=province_geo_data_short,\n",
        "    columns=['prov_name', KPI_MAP],\n",
        "    key_on='feature.properties.prov_name',\n",
        "    fill_color='YlOrRd'\n",
        ").add_to(map_italy)\n",
        "\n",
        "import branca.colormap as cm\n",
        "\n",
        "style_function = lambda x: {\n",
        "    'fillColor': '#ffffff',\n",
        "    'color':'#000000', \n",
        "    'fillOpacity': 0.1,\n",
        "    'weight': 0.1}\n",
        "highlight_function = lambda x: {\n",
        "    'fillColor': '#000000',\n",
        "    'color':'#000000',\n",
        "    'fillOpacity': 0.50,\n",
        "    'weight': 0.1}\n",
        "NIL = folium.features.GeoJson(\n",
        "    province_geo_data_short,\n",
        "    style_function=style_function, \n",
        "    control=False,\n",
        "    highlight_function=highlight_function, \n",
        "    tooltip=folium.features.GeoJsonTooltip(\n",
        "        fields=['prov_name', KPI_MAP],\n",
        "        aliases=['prov_name: ', KPI_MAP + ' : '],\n",
        "        style=(\"background-color: white; color: #333333; font-family: arial; font-size: 12px; padding: 10px;\") \n",
        "    )\n",
        ")\n",
        "map_italy.add_child(NIL)\n",
        "map_italy.keep_in_front(NIL)\n",
        "\n",
        "map_italy"
      ],
      "execution_count": 0,
      "outputs": []
    }
  ]
}