{
  "nbformat": 4,
  "nbformat_minor": 0,
  "metadata": {
    "colab": {
      "name": "CoronaVirusITALY_REGIONS.ipynb",
      "provenance": [],
      "collapsed_sections": [],
      "mount_file_id": "1h099fIapWZZawb6oJXTE4_92aykbfqiw",
      "authorship_tag": "ABX9TyNOI5YBmzz+qN3OJCr6iwAh",
      "include_colab_link": true
    },
    "kernelspec": {
      "name": "python3",
      "display_name": "Python 3"
    }
  },
  "cells": [
    {
      "cell_type": "markdown",
      "metadata": {
        "id": "view-in-github",
        "colab_type": "text"
      },
      "source": [
        "<a href=\"https://colab.research.google.com/github/Datangels/COVID19_analysis/blob/master/CoronaVirusITALY_REGIONS.ipynb\" target=\"_parent\"><img src=\"https://colab.research.google.com/assets/colab-badge.svg\" alt=\"Open In Colab\"/></a>"
      ]
    },
    {
      "cell_type": "markdown",
      "metadata": {
        "id": "N8r3IfxBnJUh",
        "colab_type": "text"
      },
      "source": [
        "# **DEFINE LIBRARIES**"
      ]
    },
    {
      "cell_type": "code",
      "metadata": {
        "id": "fdk_L-7jmmnC",
        "colab_type": "code",
        "colab": {}
      },
      "source": [
        "import pandas as pd\n",
        "import io\n",
        "import numpy as np\n",
        "import requests\n",
        "from google.colab import files\n",
        "pd.options.mode.chained_assignment = None\n",
        "! pip install geopandas"
      ],
      "execution_count": 0,
      "outputs": []
    },
    {
      "cell_type": "markdown",
      "metadata": {
        "id": "ltCgZhnhr5N-",
        "colab_type": "text"
      },
      "source": [
        "# **DOWNLOAD REGION DATA**"
      ]
    },
    {
      "cell_type": "code",
      "metadata": {
        "id": "BJuOh5rQr75H",
        "colab_type": "code",
        "colab": {}
      },
      "source": [
        "url_first_part = 'https://raw.githubusercontent.com/pcm-dpc/COVID-19/master/dati-regioni/dpc-covid19-ita-regioni-'\n",
        "\n",
        "file_dates = [\n",
        "              '20200224.csv', '20200225.csv', '20200226.csv', '20200227.csv', '20200228.csv', '20200229.csv',   \n",
        "              '20200301.csv', '20200302.csv', '20200303.csv', '20200304.csv', '20200305.csv', '20200306.csv',\n",
        "              '20200307.csv', '20200308.csv', '20200309.csv', '20200310.csv', '20200311.csv', '20200312.csv',\n",
        "              '20200313.csv', '20200314.csv', '20200315.csv', '20200316.csv', '20200317.csv', '20200318.csv',\n",
        "              '20200319.csv', '20200320.csv', '20200321.csv', '20200322.csv', '20200323.csv']\n",
        "\n",
        "\n",
        "full_data_list = []\n",
        "\n",
        "for i in range(0, len(file_dates)):\n",
        "  # print('Processing: ' + file_dates[i])\n",
        "  url_complete = url_first_part + file_dates[i]\n",
        "  response = requests.get(url_complete).content\n",
        "  temp_df = pd.read_csv(io.StringIO(response.decode('utf-8')))\n",
        "  full_data_list.append(temp_df)\n",
        "\n",
        "region_df = pd.concat(full_data_list, ignore_index=True)\n",
        "\n",
        "region_df.to_csv('region_df.csv')\n",
        "# files.download('region_df.csv')"
      ],
      "execution_count": 0,
      "outputs": []
    },
    {
      "cell_type": "markdown",
      "metadata": {
        "id": "BuCKsZCwTfxK",
        "colab_type": "text"
      },
      "source": [
        "# **FIX AND ADAPT DATA**"
      ]
    },
    {
      "cell_type": "code",
      "metadata": {
        "id": "sXM6Ylr1sNBU",
        "colab_type": "code",
        "colab": {}
      },
      "source": [
        "# Change name to specific regions to match geo spatial names and add useful column\n",
        "region_df.loc[(region_df['denominazione_regione'] == 'P.A. Trento') | (region_df['denominazione_regione'] == 'P.A. Bolzano'), 'denominazione_regione'] = 'trentino-alto adige/sudtirol'\n",
        "region_df.loc[(region_df['denominazione_regione'] == 'Emilia Romagna'), 'denominazione_regione'] = 'emilia-romagna'\n",
        "\n",
        "# Group by Country in order to avoid split by province/region\n",
        "region_df = region_df.groupby(['denominazione_regione', 'data']).agg({\n",
        "    'ricoverati_con_sintomi':'sum',\n",
        "    'terapia_intensiva':'sum',\n",
        "    'totale_ospedalizzati':'sum',\n",
        "    'isolamento_domiciliare':'sum',\n",
        "    'totale_attualmente_positivi':'sum',\n",
        "    'nuovi_attualmente_positivi':'sum',\n",
        "    'dimessi_guariti':'sum',\n",
        "    'deceduti':'sum',\n",
        "    'totale_casi':'sum',\n",
        "    'tamponi':'sum'}).reset_index()\n",
        "\n",
        "# Create copy of df to avoid not useful re-estraction\n",
        "region_df_to_manage = region_df\n",
        "\n",
        "region_df_to_manage['days_from_last_obs'] = (pd.to_datetime(region_df_to_manage.data.max()) - pd.to_datetime(region_df_to_manage.data, errors='coerce')).dt.days"
      ],
      "execution_count": 0,
      "outputs": []
    },
    {
      "cell_type": "markdown",
      "metadata": {
        "id": "X0Z2JYVwTnku",
        "colab_type": "text"
      },
      "source": [
        "# **ANALYZE DATA**"
      ]
    },
    {
      "cell_type": "code",
      "metadata": {
        "id": "1L5JUUx_MT0N",
        "colab_type": "code",
        "colab": {}
      },
      "source": [
        "kpi_columns = ['ricoverati_con_sintomi','terapia_intensiva','totale_ospedalizzati','isolamento_domiciliare','totale_attualmente_positivi',\n",
        "               'nuovi_attualmente_positivi','dimessi_guariti','deceduti','totale_casi','tamponi']\n",
        "\n",
        "region_df_to_manage_daily = pd.DataFrame()\n",
        "\n",
        "i = 0\n",
        "while i < 10:\n",
        "  temp_region_daily_df = region_df_to_manage[(region_df_to_manage['days_from_last_obs'] == i) | (region_df_to_manage['days_from_last_obs'] == i + 1)]\n",
        "  temp_region_daily_df['days_range'] = str(i) + '__' + str(i + 1)\n",
        "  temp_region_daily_df.sort_values(by=['denominazione_regione', 'days_from_last_obs'], ascending=[False, False], inplace=True)  \n",
        "  for q in range(0, len(kpi_columns)):\n",
        "    temp_region_daily_df['d_' + kpi_columns[q]] = temp_region_daily_df.groupby(['denominazione_regione'])[kpi_columns[q]].diff().fillna(0).replace([np.inf, -np.inf], 0)\n",
        "    temp_region_daily_df['dp_' + kpi_columns[q]] = temp_region_daily_df.groupby(['denominazione_regione'])[kpi_columns[q]].pct_change().apply(lambda x: round(x, 2)* 100).fillna(0).replace([np.inf, -np.inf], 0)\n",
        "  region_df_to_manage_daily = region_df_to_manage_daily.append(temp_region_daily_df)\n",
        "  i = i + 1"
      ],
      "execution_count": 0,
      "outputs": []
    },
    {
      "cell_type": "markdown",
      "metadata": {
        "id": "_iTKvMiuTqHv",
        "colab_type": "text"
      },
      "source": [
        "# **SHOW RECAP**"
      ]
    },
    {
      "cell_type": "code",
      "metadata": {
        "id": "kuTyDYsnOMm2",
        "colab_type": "code",
        "colab": {}
      },
      "source": [
        "COLUMNS_TO_DISPLAY = ['days_from_last_obs', 'data', 'denominazione_regione', 'totale_attualmente_positivi', 'nuovi_attualmente_positivi', 'dimessi_guariti']\n",
        "DAYS_AGO = 0 # 0 is the last data point\n",
        "\n",
        "region_df_to_manage_daily_recap = region_df_to_manage_daily[COLUMNS_TO_DISPLAY]\n",
        "region_df_to_manage_daily_recap[region_df_to_manage_daily_recap['days_from_last_obs'] == DAYS_AGO].sort_values('denominazione_regione')"
      ],
      "execution_count": 0,
      "outputs": []
    },
    {
      "cell_type": "markdown",
      "metadata": {
        "id": "qxx7VWxDTux-",
        "colab_type": "text"
      },
      "source": [
        "# **SHOW PIVOT**"
      ]
    },
    {
      "cell_type": "code",
      "metadata": {
        "id": "Pfy9Z4pjOdsL",
        "colab_type": "code",
        "colab": {}
      },
      "source": [
        "PIVOT_MAIN_KPI = 'd_totale_attualmente_positivi'\n",
        "\n",
        "region_df_to_manage_daily_for_pivot = region_df_to_manage_daily.groupby(['denominazione_regione', 'days_range']).last().reset_index()\n",
        "region_df_to_manage_daily_pivot = region_df_to_manage_daily_for_pivot.pivot(index='denominazione_regione', columns='days_range', values=[PIVOT_MAIN_KPI]).fillna(0)\n",
        "region_df_to_manage_daily_pivot[region_df_to_manage_daily_pivot.columns[::-1]]"
      ],
      "execution_count": 0,
      "outputs": []
    },
    {
      "cell_type": "markdown",
      "metadata": {
        "id": "IJMdJ72Y93Q_",
        "colab_type": "text"
      },
      "source": [
        "# **PLOT GEODATA**"
      ]
    },
    {
      "cell_type": "code",
      "metadata": {
        "id": "F5p6RD-BgOd0",
        "colab_type": "code",
        "colab": {}
      },
      "source": [
        "import os\n",
        "import folium\n",
        "from folium import plugins\n",
        "import geopandas as gpd"
      ],
      "execution_count": 0,
      "outputs": []
    },
    {
      "cell_type": "code",
      "metadata": {
        "id": "B63btqbh96hF",
        "colab_type": "code",
        "colab": {}
      },
      "source": [
        "# Download Geodata\n",
        "file_name = 'https://raw.githubusercontent.com/stefanocudini/leaflet-geojson-selector/master/examples/italy-regions.json'\n",
        "regional_geo_data = gpd.read_file(file_name)\n",
        "regional_geo_data['reg_name'] = regional_geo_data['name']"
      ],
      "execution_count": 0,
      "outputs": []
    },
    {
      "cell_type": "code",
      "metadata": {
        "id": "dBPzQSKU-oau",
        "colab_type": "code",
        "colab": {}
      },
      "source": [
        "KPI_MAP = 'd_tamponi'\n",
        "DAYS_AGO = 0 # 0 is the last data point\n",
        "\n",
        "map_italy = folium.Map([41.9028, 12.4964], zoom_start=6)\n",
        "\n",
        "popups = region_df_to_manage_daily[region_df_to_manage_daily['days_from_last_obs'] == DAYS_AGO]\n",
        "popups = popups[['denominazione_regione', KPI_MAP]]\n",
        "\n",
        "popups.columns = ['reg_name', KPI_MAP]\n",
        "popups['reg_name'] = popups['reg_name'].str.lower()\n",
        "\n",
        "regional_geo_data_short = regional_geo_data.merge(popups,on=\"reg_name\")\n",
        "\n",
        "regional_geo_data_short = regional_geo_data_short[['reg_name', KPI_MAP, 'geometry']]\n",
        "\n",
        "folium.Choropleth(\n",
        "    geo_data=regional_geo_data_short,\n",
        "    data=regional_geo_data_short,\n",
        "    columns=['reg_name', KPI_MAP],\n",
        "    key_on='feature.properties.reg_name',\n",
        "    fill_color='YlOrRd'\n",
        ").add_to(map_italy)\n",
        "\n",
        "# import branca.colormap as cm\n",
        "# colormap = cm.linear.YlGnBu_09.to_step(data=popups[KPI_MAP], method='quant', quantiles=[0,0.1,0.75,0.9,0.98,1])\n",
        "\n",
        "style_function = lambda x: {\n",
        "    'fillColor': '#ffffff',\n",
        "    'color':'#000000', \n",
        "    'fillOpacity': 0.1,\n",
        "    'weight': 0.1}\n",
        "highlight_function = lambda x: {\n",
        "    'fillColor': '#000000',\n",
        "    'color':'#000000',\n",
        "    'fillOpacity': 0.50,\n",
        "    'weight': 0.1}\n",
        "NIL = folium.features.GeoJson(\n",
        "    regional_geo_data_short,\n",
        "    style_function=style_function, \n",
        "    control=False,\n",
        "    highlight_function=highlight_function, \n",
        "    tooltip=folium.features.GeoJsonTooltip(\n",
        "        fields=['reg_name', KPI_MAP],\n",
        "        aliases=['reg_name: ', KPI_MAP + ' : '],\n",
        "        style=(\"background-color: white; color: #333333; font-family: arial; font-size: 12px; padding: 10px;\") \n",
        "    )\n",
        ")\n",
        "map_italy.add_child(NIL)\n",
        "map_italy.keep_in_front(NIL)\n",
        "\n",
        "map_italy"
      ],
      "execution_count": 0,
      "outputs": []
    }
  ]
}