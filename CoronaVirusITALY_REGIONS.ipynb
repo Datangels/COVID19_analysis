{
  "nbformat": 4,
  "nbformat_minor": 0,
  "metadata": {
    "colab": {
      "name": "CoronaVirusITALY_REGIONS.ipynb",
      "provenance": [],
      "collapsed_sections": [],
      "mount_file_id": "1h099fIapWZZawb6oJXTE4_92aykbfqiw",
      "authorship_tag": "ABX9TyOhAQiP8V129JaO1woz+O2A",
      "include_colab_link": true
    },
    "kernelspec": {
      "name": "python3",
      "display_name": "Python 3"
    }
  },
  "cells": [
    {
      "cell_type": "markdown",
      "metadata": {
        "id": "view-in-github",
        "colab_type": "text"
      },
      "source": [
        "<a href=\"https://colab.research.google.com/github/robimalco/COVID19_analysis/blob/master/CoronaVirusITALY_REGIONS.ipynb\" target=\"_parent\"><img src=\"https://colab.research.google.com/assets/colab-badge.svg\" alt=\"Open In Colab\"/></a>"
      ]
    },
    {
      "cell_type": "markdown",
      "metadata": {
        "id": "N8r3IfxBnJUh",
        "colab_type": "text"
      },
      "source": [
        "# **DEFINE LIBRARIES**"
      ]
    },
    {
      "cell_type": "code",
      "metadata": {
        "id": "fdk_L-7jmmnC",
        "colab_type": "code",
        "colab": {}
      },
      "source": [
        "import pandas as pd\n",
        "import io\n",
        "import numpy as np\n",
        "import requests\n",
        "from google.colab import files\n",
        "pd.options.mode.chained_assignment = None\n",
        "\n",
        "#GEODATA\n",
        "import os\n",
        "import folium\n",
        "from folium import plugins\n",
        "\n",
        "! pip install geopandas\n",
        "\n",
        "import geopandas as gpd"
      ],
      "execution_count": 0,
      "outputs": []
    },
    {
      "cell_type": "markdown",
      "metadata": {
        "id": "ltCgZhnhr5N-",
        "colab_type": "text"
      },
      "source": [
        "# **DOWNLOAD REGION DATA**"
      ]
    },
    {
      "cell_type": "code",
      "metadata": {
        "id": "BJuOh5rQr75H",
        "colab_type": "code",
        "colab": {}
      },
      "source": [
        "url_first_part = 'https://raw.githubusercontent.com/pcm-dpc/COVID-19/master/dati-regioni/dpc-covid19-ita-regioni-'\n",
        "\n",
        "file_dates = [\n",
        "              '20200224.csv', '20200225.csv', '20200226.csv', '20200227.csv', '20200228.csv', '20200229.csv',   \n",
        "              '20200301.csv', '20200302.csv', '20200303.csv', '20200304.csv', '20200305.csv', '20200306.csv',\n",
        "              '20200307.csv', '20200308.csv', '20200309.csv', '20200310.csv', '20200311.csv', '20200312.csv',\n",
        "              '20200313.csv', '20200314.csv', '20200315.csv', '20200316.csv', '20200317.csv', '20200318.csv',\n",
        "              '20200319.csv', '20200320.csv', '20200321.csv', '20200322.csv', '20200323.csv', '20200324.csv',\n",
        "              '20200325.csv', '20200326.csv', '20200327.csv', '20200328.csv', '20200329.csv', '20200330.csv',\n",
        "              '20200331.csv', '20200401.csv', '20200402.csv', '20200403.csv', '20200404.csv', '20200405.csv',\n",
        "              '20200406.csv', '20200407.csv', '20200408.csv', '20200409.csv', '20200410.csv', '20200411.csv',\n",
        "              '20200412.csv', '20200413.csv', '20200414.csv', '20200415.csv', '20200416.csv', '20200417.csv',\n",
        "              '20200418.csv', '20200419.csv', '20200420.csv', '20200421.csv']\n",
        "\n",
        "full_data_list = []\n",
        "\n",
        "for i in range(0, len(file_dates)):\n",
        "  url_complete = url_first_part + file_dates[i]\n",
        "  response = requests.get(url_complete).content\n",
        "  temp_df = pd.read_csv(io.StringIO(response.decode('utf-8')))\n",
        "  full_data_list.append(temp_df)\n",
        "\n",
        "df = pd.concat(full_data_list, ignore_index=True)\n",
        "\n",
        "# df.to_csv('df.csv')\n",
        "# files.download('df.csv')"
      ],
      "execution_count": 0,
      "outputs": []
    },
    {
      "cell_type": "markdown",
      "metadata": {
        "id": "aI2YtGaBA5ZY",
        "colab_type": "text"
      },
      "source": [
        "# **DOWNLOAD INHABITANTS PER REGION**"
      ]
    },
    {
      "cell_type": "code",
      "metadata": {
        "id": "lysDl1BokdLp",
        "colab_type": "code",
        "colab": {}
      },
      "source": [
        "from bs4 import BeautifulSoup\n",
        "import requests\n",
        "html = requests.get('http://www.comuni-italiani.it/regionip.html').text\n",
        "soup = BeautifulSoup(html)\n",
        "region_names = soup.select('table.tabwrap')[0].findAll('a')\n",
        "region_populations = soup.select('table.tabwrap')[0].findAll('td', {'align': 'right', 'width': '18%'})\n",
        "df_region_inhabitants = pd.DataFrame(columns=['denominazione_regione', 'inhabitants'])\n",
        "for i in range(0, len(region_names)):\n",
        "  df_region_inhabitants = df_region_inhabitants.append({\n",
        "      'denominazione_regione': region_names[i].getText(),\n",
        "      'inhabitants': int(region_populations[i].getText().replace('.', ''))\n",
        "      }, ignore_index=True)"
      ],
      "execution_count": 0,
      "outputs": []
    },
    {
      "cell_type": "markdown",
      "metadata": {
        "id": "fTq9ZcJzJZbD",
        "colab_type": "text"
      },
      "source": [
        "# **DOWNLOAD GEODATA**"
      ]
    },
    {
      "cell_type": "code",
      "metadata": {
        "id": "9hJmpKH-Jcxc",
        "colab_type": "code",
        "colab": {}
      },
      "source": [
        "# Download Geodata\n",
        "file_name = 'https://raw.githubusercontent.com/stefanocudini/leaflet-geojson-selector/master/examples/italy-regions.json'\n",
        "regional_geo_data = gpd.read_file(file_name)\n",
        "regional_geo_data['reg_name'] = regional_geo_data['name']"
      ],
      "execution_count": 0,
      "outputs": []
    },
    {
      "cell_type": "markdown",
      "metadata": {
        "id": "AbHysPbIJ05r",
        "colab_type": "text"
      },
      "source": [
        "# **FIX INCONSISTENCIES BETWEEN REGIONS' NAMES**"
      ]
    },
    {
      "cell_type": "code",
      "metadata": {
        "id": "QBfrydFRK6L4",
        "colab_type": "code",
        "colab": {}
      },
      "source": [
        "df.loc[(df['denominazione_regione'] == 'P.A. Trento'), 'denominazione_regione'] = 'Trentino-Alto Adige'\n",
        "df.loc[(df['denominazione_regione'] == 'P.A. Bolzano'), 'denominazione_regione'] = 'Trentino-Alto Adige'\n",
        "# df.loc[(df['denominazione_regione'] == 'Emilia-Romagna'), 'denominazione_regione'] = 'Emilia Romagna'\n",
        "\n",
        "df_region_inhabitants.loc[(df_region_inhabitants['denominazione_regione'] == 'Friuli-Venezia Giulia'), 'denominazione_regione'] = 'Friuli Venezia Giulia'\n",
        "\n",
        "regional_geo_data.loc[(regional_geo_data['reg_name'] == 'basilicata'), 'reg_name'] = 'Basilicata'\n",
        "regional_geo_data.loc[(regional_geo_data['reg_name'] == 'calabria'), 'reg_name'] = 'Calabria'\n",
        "regional_geo_data.loc[(regional_geo_data['reg_name'] == 'campania'), 'reg_name'] = 'Campania'\n",
        "regional_geo_data.loc[(regional_geo_data['reg_name'] == 'piemonte'), 'reg_name'] = 'Piemonte'\n",
        "regional_geo_data.loc[(regional_geo_data['reg_name'] == \"valle d'aosta\"), 'reg_name'] = \"Valle d'Aosta\"\n",
        "regional_geo_data.loc[(regional_geo_data['reg_name'] == 'lombardia'), 'reg_name'] = 'Lombardia'\n",
        "regional_geo_data.loc[(regional_geo_data['reg_name'] == 'trentino-alto adige/sudtirol'), 'reg_name'] = 'Trentino-Alto Adige'\n",
        "regional_geo_data.loc[(regional_geo_data['reg_name'] == 'veneto'), 'reg_name'] = 'Veneto'\n",
        "regional_geo_data.loc[(regional_geo_data['reg_name'] == 'friuli venezia giulia'), 'reg_name'] = 'Friuli Venezia Giulia'\n",
        "regional_geo_data.loc[(regional_geo_data['reg_name'] == 'liguria'), 'reg_name'] = 'Liguria'\n",
        "regional_geo_data.loc[(regional_geo_data['reg_name'] == 'emilia-romagna'), 'reg_name'] = 'Emilia-Romagna'\n",
        "regional_geo_data.loc[(regional_geo_data['reg_name'] == 'toscana'), 'reg_name'] = 'Toscana'\n",
        "regional_geo_data.loc[(regional_geo_data['reg_name'] == 'umbria'), 'reg_name'] = 'Umbria'\n",
        "regional_geo_data.loc[(regional_geo_data['reg_name'] == 'marche'), 'reg_name'] = 'Marche'\n",
        "regional_geo_data.loc[(regional_geo_data['reg_name'] == 'lazio'), 'reg_name'] = 'Lazio'\n",
        "regional_geo_data.loc[(regional_geo_data['reg_name'] == 'molise'), 'reg_name'] = 'Molise'\n",
        "regional_geo_data.loc[(regional_geo_data['reg_name'] == 'abruzzo'), 'reg_name'] = 'Abruzzo'\n",
        "regional_geo_data.loc[(regional_geo_data['reg_name'] == 'puglia'), 'reg_name'] = 'Puglia'\n",
        "regional_geo_data.loc[(regional_geo_data['reg_name'] == 'sicilia'), 'reg_name'] = 'Sicilia'\n",
        "regional_geo_data.loc[(regional_geo_data['reg_name'] == 'sardegna'), 'reg_name'] = 'Sardegna'"
      ],
      "execution_count": 0,
      "outputs": []
    },
    {
      "cell_type": "markdown",
      "metadata": {
        "id": "BuCKsZCwTfxK",
        "colab_type": "text"
      },
      "source": [
        "# **FILTER, MERGE AND GROUP DATA**"
      ]
    },
    {
      "cell_type": "code",
      "metadata": {
        "id": "sXM6Ylr1sNBU",
        "colab_type": "code",
        "colab": {}
      },
      "source": [
        "# Create copy of df to avoid not useful re-estraction\n",
        "region_df = df\n",
        "\n",
        "# Merge tables\n",
        "region_df = region_df.merge(df_region_inhabitants, on='denominazione_regione')\n",
        "\n",
        "# Group by Country in order to avoid split by province/region\n",
        "region_df = region_df.groupby(['denominazione_regione', 'data']).agg({\n",
        "    'ricoverati_con_sintomi':'sum',\n",
        "    'terapia_intensiva':'sum',\n",
        "    'totale_ospedalizzati':'sum',\n",
        "    'isolamento_domiciliare':'sum',\n",
        "    'totale_positivi':'sum',\n",
        "    'variazione_totale_positivi':'sum',\n",
        "    'nuovi_positivi':'sum',\n",
        "    'dimessi_guariti':'sum',\n",
        "    'deceduti':'sum',\n",
        "    'totale_casi': 'sum',\n",
        "    'tamponi':'sum',\n",
        "    'inhabitants': 'sum'}).reset_index()"
      ],
      "execution_count": 0,
      "outputs": []
    },
    {
      "cell_type": "markdown",
      "metadata": {
        "id": "h0EAikJUSAxr",
        "colab_type": "text"
      },
      "source": [
        "# **ADD NEW INTERESTING COLUMNS**"
      ]
    },
    {
      "cell_type": "code",
      "metadata": {
        "id": "EfmH3XYHOMUU",
        "colab_type": "code",
        "colab": {}
      },
      "source": [
        "region_df['tamponi/tot_casi'] = region_df['tamponi'] / region_df['totale_casi']\n",
        "region_df['positivi'] = region_df['totale_casi'] - region_df['dimessi_guariti'] - region_df['deceduti']\n",
        "region_df['inhabitants/tot_case'] = region_df['inhabitants'] / region_df['totale_casi']\n",
        "region_df['inhabitants/tamponi'] = region_df['inhabitants'] / region_df['tamponi']"
      ],
      "execution_count": 0,
      "outputs": []
    },
    {
      "cell_type": "markdown",
      "metadata": {
        "id": "X0Z2JYVwTnku",
        "colab_type": "text"
      },
      "source": [
        "# **ANALYZE DATA**"
      ]
    },
    {
      "cell_type": "code",
      "metadata": {
        "id": "1L5JUUx_MT0N",
        "colab_type": "code",
        "colab": {}
      },
      "source": [
        "kpi_columns = [item for item in list(region_df.columns) if item not in ['denominazione_regione', 'data', 'days_from_last_obs']]\n",
        "\n",
        "ok_region_df = pd.DataFrame()\n",
        "\n",
        "region_df['days_from_last_obs'] = (pd.to_datetime(region_df.data.max()) - pd.to_datetime(region_df.data, errors='coerce')).dt.days\n",
        "temp_region_df = region_df.sort_values(by=['denominazione_regione', 'days_from_last_obs'], ascending=[False, False])\n",
        "\n",
        "for q in range(0, len(kpi_columns)):\n",
        "  temp_region_df[kpi_columns[q]] = temp_region_df[kpi_columns[q]].fillna(0).replace([np.inf, -np.inf], 0).astype(int)\n",
        "  temp_region_df['d_' + kpi_columns[q]] = temp_region_df.groupby(['denominazione_regione'])[kpi_columns[q]].diff().fillna(0).replace([np.inf, -np.inf], 0).astype(int)\n",
        "  temp_region_df['dp_' + kpi_columns[q]] = temp_region_df.groupby(['denominazione_regione'])[kpi_columns[q]].pct_change().apply(lambda x: round(x, 2)* 100).fillna(0).replace([np.inf, -np.inf], 0).astype(int)\n",
        "ok_region_df = ok_region_df.append(temp_region_df)"
      ],
      "execution_count": 0,
      "outputs": []
    },
    {
      "cell_type": "markdown",
      "metadata": {
        "id": "AHk5Hh4EfJ1y",
        "colab_type": "text"
      },
      "source": [
        "# **ANALISY OF WHOLE ITALY**"
      ]
    },
    {
      "cell_type": "code",
      "metadata": {
        "id": "UpoFhLVqfIAy",
        "colab_type": "code",
        "colab": {}
      },
      "source": [
        "ok_region_df[ok_region_df.days_from_last_obs < 7].groupby(['data']).agg({\n",
        "    'nuovi_positivi':'sum',\n",
        "    'd_nuovi_positivi':'sum',\n",
        "    'dimessi_guariti':'sum',\n",
        "    'd_dimessi_guariti':'sum',\n",
        "    'deceduti':'sum',\n",
        "    'd_deceduti':'sum',\n",
        "    'totale_casi': 'sum',\n",
        "    'd_totale_casi': 'sum',\n",
        "    'tamponi':'sum',\n",
        "    'd_tamponi': 'sum'}).reset_index()"
      ],
      "execution_count": 0,
      "outputs": []
    },
    {
      "cell_type": "markdown",
      "metadata": {
        "id": "_iTKvMiuTqHv",
        "colab_type": "text"
      },
      "source": [
        "# **SHOW RECAP**"
      ]
    },
    {
      "cell_type": "code",
      "metadata": {
        "id": "kuTyDYsnOMm2",
        "colab_type": "code",
        "colab": {}
      },
      "source": [
        "COLUMNS_TO_DISPLAY = ['denominazione_regione', 'days_from_last_obs', 'totale_casi', 'd_totale_casi', 'deceduti', 'd_deceduti', 'tamponi', 'd_tamponi']\n",
        "\n",
        "DAYS_AGO = 0 # 0 is the last data point\n",
        "\n",
        "ok_region_df_recap = ok_region_df[COLUMNS_TO_DISPLAY]\n",
        "ok_region_df_recap[ok_region_df_recap['days_from_last_obs'] == DAYS_AGO].sort_values('denominazione_regione')"
      ],
      "execution_count": 0,
      "outputs": []
    },
    {
      "cell_type": "markdown",
      "metadata": {
        "id": "qxx7VWxDTux-",
        "colab_type": "text"
      },
      "source": [
        "# **SHOW PIVOT**"
      ]
    },
    {
      "cell_type": "code",
      "metadata": {
        "id": "Pfy9Z4pjOdsL",
        "colab_type": "code",
        "colab": {}
      },
      "source": [
        "PIVOT_MAIN_KPI = 'nuovi_positivi'\n",
        "\n",
        "LAST_n_DAYS = 10\n",
        "\n",
        "ok_region_df_for_pivot = ok_region_df.groupby(['denominazione_regione', 'days_from_last_obs']).last().reset_index()\n",
        "ok_region_df_pivot = ok_region_df_for_pivot.pivot(index='denominazione_regione', columns='days_from_last_obs', values=[PIVOT_MAIN_KPI]).fillna(0)\n",
        "ok_region_df_pivot[ok_region_df_pivot.columns[::-1][len(list(ok_region_df_pivot.columns))-LAST_n_DAYS:]]"
      ],
      "execution_count": 0,
      "outputs": []
    },
    {
      "cell_type": "markdown",
      "metadata": {
        "id": "EiAecSqdSaJZ",
        "colab_type": "text"
      },
      "source": [
        "# **SHOW INTERESTING PURE NUMBERS**\n",
        "\n"
      ]
    },
    {
      "cell_type": "code",
      "metadata": {
        "id": "ZQ9nj9qEQ4dJ",
        "colab_type": "code",
        "outputId": "22efba08-8767-4050-fb9e-3668910504d0",
        "colab": {
          "base_uri": "https://localhost:8080/",
          "height": 35
        }
      },
      "source": [
        "VAR_1 = 'totale_casi'\n",
        "VAR_2 = 'tamponi'\n",
        "\n",
        "correlation = round(df[VAR_1].corr(df[VAR_2]), 2)\n",
        "print('Correlation ' + VAR_1 + ' ' + VAR_2 + ': ' + str(correlation))"
      ],
      "execution_count": 12,
      "outputs": [
        {
          "output_type": "stream",
          "text": [
            "Correlation totale_casi tamponi: 0.83\n"
          ],
          "name": "stdout"
        }
      ]
    },
    {
      "cell_type": "markdown",
      "metadata": {
        "id": "qfgGudkNjfFI",
        "colab_type": "text"
      },
      "source": [
        "# **MULTI PLOT TRENDLINE**"
      ]
    },
    {
      "cell_type": "code",
      "metadata": {
        "id": "rTzhIgEGZUX2",
        "colab_type": "code",
        "colab": {}
      },
      "source": [
        "KPI_multi_plot = 'nuovi_positivi'\n",
        "\n",
        "import matplotlib.pyplot as plt\n",
        "import numpy as np\n",
        "\n",
        "regions_map = {\n",
        "    \"Valle d'Aosta\": [0, 0],\n",
        "    'Piemonte': [0, 1],\n",
        "    'Lombardia': [0, 2],\n",
        "    'Trentino-Alto Adige': [0, 3],\n",
        "    'Friuli Venezia Giulia': [0, 4],\n",
        "    'Liguria': [1, 0],\n",
        "    'Veneto': [1, 1],\n",
        "    'Emilia-Romagna': [1, 2],\n",
        "    'Toscana': [1, 3],\n",
        "    'Marche': [1, 4],\n",
        "    'Umbria': [2, 0],\n",
        "    'Lazio': [2, 1],\n",
        "    'Abruzzo': [2, 2],\n",
        "    'Molise': [2, 3],\n",
        "    'Campania': [2, 4],\n",
        "    'Puglia': [3, 0],\n",
        "    'Basilicata': [3, 1],\n",
        "    'Calabria': [3, 2],\n",
        "    'Sicilia': [3, 3],\n",
        "    'Sardegna': [3, 4],\n",
        "}\n",
        "\n",
        "fig, ax = plt.subplots(4, 5, figsize=(25,15))\n",
        "\n",
        "fig.suptitle(KPI_multi_plot, fontsize=30)\n",
        "\n",
        "x_axis = ok_region_df.data.unique()\n",
        "\n",
        "for region_map in regions_map:\n",
        "  temp_y = ok_region_df[ok_region_df.denominazione_regione == region_map][KPI_multi_plot]\n",
        "  temp_ax = ax[regions_map[region_map][0], regions_map[region_map][1]]\n",
        "  temp_ax.plot(x_axis, temp_y, 'black')\n",
        "  temp_ax.set_title(region_map, color='black')\n",
        "  temp_ax.patch.set_facecolor('lightgray')\n",
        "  temp_ax.tick_params(axis='y', colors='black')\n",
        "fig.show()"
      ],
      "execution_count": 0,
      "outputs": []
    },
    {
      "cell_type": "markdown",
      "metadata": {
        "id": "IJMdJ72Y93Q_",
        "colab_type": "text"
      },
      "source": [
        "# **PLOT GEODATA**"
      ]
    },
    {
      "cell_type": "code",
      "metadata": {
        "id": "dBPzQSKU-oau",
        "colab_type": "code",
        "colab": {}
      },
      "source": [
        "KPI_MAP = 'dp_totale_casi'\n",
        "DAYS_AGO = 0 # 0 is the last data point\n",
        "\n",
        "map_italy = folium.Map([41.9028, 12.4964], zoom_start=6)\n",
        "\n",
        "popups = ok_region_df[ok_region_df['days_from_last_obs'] == DAYS_AGO]\n",
        "popups = popups[['denominazione_regione', KPI_MAP]]\n",
        "\n",
        "popups.columns = ['reg_name', KPI_MAP]\n",
        "# popups['reg_name'] = popups['reg_name'].str.lower()\n",
        "\n",
        "regional_geo_data_short = regional_geo_data.merge(popups,on=\"reg_name\")\n",
        "\n",
        "regional_geo_data_short = regional_geo_data_short[['reg_name', KPI_MAP, 'geometry']]\n",
        "\n",
        "folium.Choropleth(\n",
        "    geo_data=regional_geo_data_short,\n",
        "    data=regional_geo_data_short,\n",
        "    columns=['reg_name', KPI_MAP],\n",
        "    key_on='feature.properties.reg_name',\n",
        "    fill_color='YlOrRd'\n",
        ").add_to(map_italy)\n",
        "\n",
        "style_function = lambda x: {\n",
        "    'fillColor': '#ffffff',\n",
        "    'color':'#000000', \n",
        "    'fillOpacity': 0.1,\n",
        "    'weight': 0.1}\n",
        "highlight_function = lambda x: {\n",
        "    'fillColor': '#000000',\n",
        "    'color':'#000000',\n",
        "    'fillOpacity': 0.50,\n",
        "    'weight': 0.1}\n",
        "NIL = folium.features.GeoJson(\n",
        "    regional_geo_data_short,\n",
        "    style_function=style_function, \n",
        "    control=False,\n",
        "    highlight_function=highlight_function, \n",
        "    tooltip=folium.features.GeoJsonTooltip(\n",
        "        fields=['reg_name', KPI_MAP],\n",
        "        aliases=['reg_name: ', KPI_MAP + ' : '],\n",
        "        style=(\"background-color: white; color: #333333; font-family: arial; font-size: 12px; padding: 10px;\") \n",
        "    )\n",
        ")\n",
        "map_italy.add_child(NIL)\n",
        "map_italy.keep_in_front(NIL)\n",
        "\n",
        "map_italy"
      ],
      "execution_count": 0,
      "outputs": []
    }
  ]
}