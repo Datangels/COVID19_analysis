{
  "nbformat": 4,
  "nbformat_minor": 0,
  "metadata": {
    "colab": {
      "name": "CoronaVirusITALY_GLOBAL.ipynb",
      "provenance": [],
      "collapsed_sections": [],
      "mount_file_id": "1h099fIapWZZawb6oJXTE4_92aykbfqiw",
      "authorship_tag": "ABX9TyM0Nz8nzLTUB4P09XYuHlxR",
      "include_colab_link": true
    },
    "kernelspec": {
      "name": "python3",
      "display_name": "Python 3"
    }
  },
  "cells": [
    {
      "cell_type": "markdown",
      "metadata": {
        "id": "view-in-github",
        "colab_type": "text"
      },
      "source": [
        "<a href=\"https://colab.research.google.com/github/Datangels/COVID19_analysis/blob/master/CoronaVirusITALY_GLOBAL.ipynb\" target=\"_parent\"><img src=\"https://colab.research.google.com/assets/colab-badge.svg\" alt=\"Open In Colab\"/></a>"
      ]
    },
    {
      "cell_type": "markdown",
      "metadata": {
        "id": "N8r3IfxBnJUh",
        "colab_type": "text"
      },
      "source": [
        "# **DEFINE LIBRARIES**"
      ]
    },
    {
      "cell_type": "code",
      "metadata": {
        "id": "fdk_L-7jmmnC",
        "colab_type": "code",
        "colab": {}
      },
      "source": [
        "import pandas as pd\n",
        "import numpy as np\n",
        "import io\n",
        "import requests\n",
        "from google.colab import files\n",
        "pd.options.mode.chained_assignment = None\n",
        "! pip install geopandas"
      ],
      "execution_count": 0,
      "outputs": []
    },
    {
      "cell_type": "markdown",
      "metadata": {
        "id": "ltCgZhnhr5N-",
        "colab_type": "text"
      },
      "source": [
        "# **DOWNLOAD REGION DATA**"
      ]
    },
    {
      "cell_type": "code",
      "metadata": {
        "id": "BJuOh5rQr75H",
        "colab_type": "code",
        "colab": {}
      },
      "source": [
        "url_first_part = 'https://raw.githubusercontent.com/CSSEGISandData/COVID-19/master/csse_covid_19_data/csse_covid_19_daily_reports/'\n",
        "\n",
        "file_dates = ['02-02-2020.csv', '02-03-2020.csv', '02-04-2020.csv',\n",
        "              '02-05-2020.csv', '02-06-2020.csv', '02-07-2020.csv', '02-08-2020.csv', '02-09-2020.csv', '02-10-2020.csv', '02-11-2020.csv',\n",
        "              '02-12-2020.csv', '02-13-2020.csv', '02-14-2020.csv', '02-15-2020.csv', '02-16-2020.csv', '02-17-2020.csv', '02-18-2020.csv',\n",
        "              '02-19-2020.csv', '02-20-2020.csv', '02-21-2020.csv', '02-22-2020.csv', '02-23-2020.csv', '02-24-2020.csv', '02-25-2020.csv',\n",
        "              '02-26-2020.csv', '02-27-2020.csv', '02-28-2020.csv', '02-29-2020.csv', '03-01-2020.csv', '03-02-2020.csv', '03-03-2020.csv',\n",
        "              '03-04-2020.csv', '03-05-2020.csv', '03-06-2020.csv', '03-07-2020.csv', '03-08-2020.csv', '03-09-2020.csv', '03-10-2020.csv',\n",
        "              '03-11-2020.csv', '03-12-2020.csv', '03-13-2020.csv', '03-14-2020.csv', '03-15-2020.csv', '03-16-2020.csv', '03-17-2020.csv',\n",
        "              '03-18-2020.csv', '03-19-2020.csv', '03-20-2020.csv', '03-21-2020.csv', '03-22-2020.csv', '03-23-2020.csv']\n",
        "\n",
        "\n",
        "full_data_list = []\n",
        "\n",
        "for i in range(0, len(file_dates)):\n",
        "  # print('Processing: ' + file_dates[i])\n",
        "  url_complete = url_first_part + file_dates[i]\n",
        "  response = requests.get(url_complete).content\n",
        "  temp_df = pd.read_csv(io.StringIO(response.decode('utf-8')))\n",
        "  try:\n",
        "    temp_df['Last Update'] = temp_df['Last_Update']\n",
        "    temp_df['Country/Region'] = temp_df['Country_Region']\n",
        "    temp_df['Province/State'] = temp_df['Province_State']\n",
        "  except:\n",
        "    pass\n",
        "  full_data_list.append(temp_df)\n",
        "\n",
        "global_df = pd.concat(full_data_list, ignore_index=True)\n",
        "\n",
        "# global_df.to_csv('global_df.csv')\n",
        "# files.download('province_df.csv')"
      ],
      "execution_count": 0,
      "outputs": []
    },
    {
      "cell_type": "code",
      "metadata": {
        "id": "A7K150266mMn",
        "colab_type": "code",
        "colab": {}
      },
      "source": [
        "# global_df['Last Update'].unique()\n",
        "global_df[global_df['Last_Update'].isnull() == True]"
      ],
      "execution_count": 0,
      "outputs": []
    },
    {
      "cell_type": "markdown",
      "metadata": {
        "id": "BuCKsZCwTfxK",
        "colab_type": "text"
      },
      "source": [
        "# **FIX AND ADAPT DATA**"
      ]
    },
    {
      "cell_type": "code",
      "metadata": {
        "id": "sXM6Ylr1sNBU",
        "colab_type": "code",
        "colab": {}
      },
      "source": [
        "global_df_to_manage = global_df\n",
        "\n",
        "global_df_to_manage = global_df_to_manage.fillna(0)\n",
        "\n",
        "global_df_to_manage['Last Update'] = global_df_to_manage['Last Update'].str[:10]\n",
        "\n",
        "global_df_to_manage = global_df_to_manage.groupby(['Last Update', 'Country/Region']).agg({'Confirmed':'sum','Deaths':'sum','Recovered':'sum'}).reset_index()\n",
        "\n",
        "global_df_to_manage['days_from_last_obs'] = (pd.to_datetime(global_df_to_manage['Last Update'].max()) - pd.to_datetime(global_df_to_manage['Last Update'], errors='coerce')).dt.days"
      ],
      "execution_count": 0,
      "outputs": []
    },
    {
      "cell_type": "code",
      "metadata": {
        "id": "FgX67b2ia9ky",
        "colab_type": "code",
        "colab": {}
      },
      "source": [
        "list(set(global_df_to_manage[(global_df_to_manage['Last Update'] == '2020-03-18')]['days_from_last_obs']))"
      ],
      "execution_count": 0,
      "outputs": []
    },
    {
      "cell_type": "code",
      "metadata": {
        "id": "c0nkLtPbdEuX",
        "colab_type": "code",
        "colab": {}
      },
      "source": [
        "global_df_to_manage[(global_df_to_manage['days_from_last_obs'] == 9) & (global_df_to_manage['Country/Region'] == 'Italy')]"
      ],
      "execution_count": 0,
      "outputs": []
    },
    {
      "cell_type": "markdown",
      "metadata": {
        "id": "X0Z2JYVwTnku",
        "colab_type": "text"
      },
      "source": [
        "# **ANALYZE DATA**"
      ]
    },
    {
      "cell_type": "code",
      "metadata": {
        "id": "1L5JUUx_MT0N",
        "colab_type": "code",
        "colab": {}
      },
      "source": [
        "kpi_columns = ['Confirmed', 'Deaths', 'Recovered']\n",
        "\n",
        "global_df_to_manage_daily = pd.DataFrame()\n",
        "\n",
        "i = 0\n",
        "while i < 10:\n",
        "  temp_global_daily_df = global_df_to_manage[(global_df_to_manage['days_from_last_obs'] == i) | (global_df_to_manage['days_from_last_obs'] == i + 1)]\n",
        "  temp_global_daily_df['days_range'] = str(i) + '__' + str(i + 1)\n",
        "  temp_global_daily_df.sort_values(by=['Country/Region', 'days_from_last_obs'], ascending=[False, False], inplace=True)  \n",
        "  for q in range(0, len(kpi_columns)):\n",
        "    temp_global_daily_df['d_' + kpi_columns[q]] = temp_global_daily_df.groupby(['Country/Region'])[kpi_columns[q]].diff().fillna(0).replace([np.inf, -np.inf], 0)\n",
        "    temp_global_daily_df['dp_' + kpi_columns[q]] = temp_global_daily_df.groupby(['Country/Region'])[kpi_columns[q]].pct_change().apply(lambda x: round(x, 2)* 100).fillna(0).replace([np.inf, -np.inf], 0)\n",
        "  global_df_to_manage_daily = global_df_to_manage_daily.append(temp_global_daily_df)\n",
        "  i = i + 1"
      ],
      "execution_count": 0,
      "outputs": []
    },
    {
      "cell_type": "code",
      "metadata": {
        "id": "bAHRUwh-bHd6",
        "colab_type": "code",
        "colab": {}
      },
      "source": [
        "global_df_to_manage_daily[(global_df_to_manage_daily['days_from_last_obs'] == 5) & (global_df_to_manage_daily['Country/Region'] == 'Italy')]"
      ],
      "execution_count": 0,
      "outputs": []
    },
    {
      "cell_type": "markdown",
      "metadata": {
        "id": "_iTKvMiuTqHv",
        "colab_type": "text"
      },
      "source": [
        "# **SHOW RECAP**"
      ]
    },
    {
      "cell_type": "code",
      "metadata": {
        "id": "kuTyDYsnOMm2",
        "colab_type": "code",
        "colab": {}
      },
      "source": [
        "COLUMNS_TO_DISPLAY = ['days_from_last_obs', 'Last Update', 'Country/Region', 'Confirmed', 'd_Confirmed', 'dp_Confirmed']\n",
        "DAYS_AGO = 1 # 0 is the last data point\n",
        "\n",
        "global_df_to_manage_daily_recap = global_df_to_manage_daily[COLUMNS_TO_DISPLAY]\n",
        "# global_df_to_manage_daily_recap[global_df_to_manage_daily_recap['days_from_last_obs'] == DAYS_AGO].sort_values('Country/Region')\n",
        "\n",
        "global_df_to_manage_daily_recap[(global_df_to_manage_daily_recap['days_from_last_obs'] == DAYS_AGO) & (global_df_to_manage_daily_recap['Country/Region'] == 'Italy')]\n",
        "\n",
        "## ARRIVATO QUI I DATI RIGUARDO UNITED KINGDOM NON TORNANO"
      ],
      "execution_count": 0,
      "outputs": []
    },
    {
      "cell_type": "markdown",
      "metadata": {
        "id": "qxx7VWxDTux-",
        "colab_type": "text"
      },
      "source": [
        "# **SHOW PIVOT**"
      ]
    },
    {
      "cell_type": "code",
      "metadata": {
        "id": "Pfy9Z4pjOdsL",
        "colab_type": "code",
        "colab": {}
      },
      "source": [
        "PIVOT_MAIN_KPI = 'dp_totale_casi'\n",
        "\n",
        "province_df_to_manage_daily_for_pivot = province_df_to_manage_daily.groupby(['denominazione_provincia', 'days_range']).last().reset_index()\n",
        "province_df_to_manage_daily_pivot = province_df_to_manage_daily_for_pivot.pivot(index='denominazione_provincia', columns='days_range', values=[PIVOT_MAIN_KPI]).fillna(0)\n",
        "province_df_to_manage_daily_pivot[province_df_to_manage_daily_pivot.columns[::-1]]"
      ],
      "execution_count": 0,
      "outputs": []
    },
    {
      "cell_type": "markdown",
      "metadata": {
        "id": "IJMdJ72Y93Q_",
        "colab_type": "text"
      },
      "source": [
        "# **PLOT GEODATA**"
      ]
    },
    {
      "cell_type": "code",
      "metadata": {
        "id": "F5p6RD-BgOd0",
        "colab_type": "code",
        "colab": {}
      },
      "source": [
        "import os\n",
        "import numpy as np\n",
        "import folium\n",
        "from folium import plugins\n",
        "import geopandas as gpd"
      ],
      "execution_count": 0,
      "outputs": []
    },
    {
      "cell_type": "code",
      "metadata": {
        "id": "B63btqbh96hF",
        "colab_type": "code",
        "colab": {}
      },
      "source": [
        "# Download Geodata\n",
        "file_name = 'https://raw.githubusercontent.com/openpolis/geojson-italy/master/geojson/limits_IT_provinces.geojson'\n",
        "province_geo_data = gpd.read_file(file_name)\n",
        "province_geo_data['prov_name'] = province_geo_data['prov_name'].str.lower()"
      ],
      "execution_count": 0,
      "outputs": []
    },
    {
      "cell_type": "code",
      "metadata": {
        "id": "dBPzQSKU-oau",
        "colab_type": "code",
        "colab": {}
      },
      "source": [
        "KPI_MAP = 'dp_totale_casi'\n",
        "DAYS_AGO = 0 # 0 is the last data point\n",
        "\n",
        "map_italy = folium.Map([41.9028, 12.4964], zoom_start=6)\n",
        "\n",
        "popups = province_df_to_manage_daily[province_df_to_manage_daily['days_from_last_obs'] == DAYS_AGO]\n",
        "popups = popups[['denominazione_provincia', KPI_MAP]]\n",
        "\n",
        "popups.columns = ['prov_name', KPI_MAP]\n",
        "popups['prov_name'] = popups['prov_name'].str.lower()\n",
        "\n",
        "province_geo_data_short = province_geo_data.merge(popups,on=\"prov_name\")\n",
        "\n",
        "province_geo_data_short = province_geo_data_short[['prov_name', KPI_MAP, 'geometry']]\n",
        "\n",
        "folium.Choropleth(\n",
        "    geo_data=province_geo_data_short,\n",
        "    data=province_geo_data_short,\n",
        "    columns=['prov_name', KPI_MAP],\n",
        "    key_on='feature.properties.prov_name',\n",
        "    fill_color='YlOrRd'\n",
        ").add_to(map_italy)\n",
        "\n",
        "import branca.colormap as cm\n",
        "colormap = cm.linear.YlGnBu_09.to_step(data=popups[KPI_MAP], method='quant', quantiles=[0,0.1,0.75,0.9,0.98,1])\n",
        "\n",
        "style_function = lambda x: {\n",
        "    'fillColor': '#ffffff',\n",
        "    'color':'#000000', \n",
        "    'fillOpacity': 0.1,\n",
        "    'weight': 0.1}\n",
        "highlight_function = lambda x: {\n",
        "    'fillColor': '#000000',\n",
        "    'color':'#000000',\n",
        "    'fillOpacity': 0.50,\n",
        "    'weight': 0.1}\n",
        "NIL = folium.features.GeoJson(\n",
        "    province_geo_data_short,\n",
        "    style_function=style_function, \n",
        "    control=False,\n",
        "    highlight_function=highlight_function, \n",
        "    tooltip=folium.features.GeoJsonTooltip(\n",
        "        fields=['prov_name', KPI_MAP],\n",
        "        aliases=['prov_name: ', KPI_MAP + ' : '],\n",
        "        style=(\"background-color: white; color: #333333; font-family: arial; font-size: 12px; padding: 10px;\") \n",
        "    )\n",
        ")\n",
        "map_italy.add_child(NIL)\n",
        "map_italy.keep_in_front(NIL)\n",
        "\n",
        "map_italy"
      ],
      "execution_count": 0,
      "outputs": []
    }
  ]
}